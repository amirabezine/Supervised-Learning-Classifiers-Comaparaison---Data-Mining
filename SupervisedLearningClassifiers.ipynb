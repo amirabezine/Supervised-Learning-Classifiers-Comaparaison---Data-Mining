{
  "cells": [
    {
      "cell_type": "code",
      "execution_count": null,
      "metadata": {
        "colab": {
          "base_uri": "https://localhost:8080/"
        },
        "id": "o6be99XYNLTT",
        "outputId": "58385eed-d579-4f90-da01-f95a2e4498e4"
      },
      "outputs": [
        {
          "output_type": "stream",
          "name": "stdout",
          "text": [
            "[[5.1 3.5 1.4 0.2]\n",
            " [4.9 3.  1.4 0.2]\n",
            " [4.7 3.2 1.3 0.2]\n",
            " [4.6 3.1 1.5 0.2]\n",
            " [5.  3.6 1.4 0.2]\n",
            " [5.4 3.9 1.7 0.4]\n",
            " [4.6 3.4 1.4 0.3]\n",
            " [5.  3.4 1.5 0.2]\n",
            " [4.4 2.9 1.4 0.2]\n",
            " [4.9 3.1 1.5 0.1]\n",
            " [5.4 3.7 1.5 0.2]\n",
            " [4.8 3.4 1.6 0.2]\n",
            " [4.8 3.  1.4 0.1]\n",
            " [4.3 3.  1.1 0.1]\n",
            " [5.8 4.  1.2 0.2]\n",
            " [5.7 4.4 1.5 0.4]\n",
            " [5.4 3.9 1.3 0.4]\n",
            " [5.1 3.5 1.4 0.3]\n",
            " [5.7 3.8 1.7 0.3]\n",
            " [5.1 3.8 1.5 0.3]\n",
            " [5.4 3.4 1.7 0.2]\n",
            " [5.1 3.7 1.5 0.4]\n",
            " [4.6 3.6 1.  0.2]\n",
            " [5.1 3.3 1.7 0.5]\n",
            " [4.8 3.4 1.9 0.2]\n",
            " [5.  3.  1.6 0.2]\n",
            " [5.  3.4 1.6 0.4]\n",
            " [5.2 3.5 1.5 0.2]\n",
            " [5.2 3.4 1.4 0.2]\n",
            " [4.7 3.2 1.6 0.2]\n",
            " [4.8 3.1 1.6 0.2]\n",
            " [5.4 3.4 1.5 0.4]\n",
            " [5.2 4.1 1.5 0.1]\n",
            " [5.5 4.2 1.4 0.2]\n",
            " [4.9 3.1 1.5 0.2]\n",
            " [5.  3.2 1.2 0.2]\n",
            " [5.5 3.5 1.3 0.2]\n",
            " [4.9 3.6 1.4 0.1]\n",
            " [4.4 3.  1.3 0.2]\n",
            " [5.1 3.4 1.5 0.2]\n",
            " [5.  3.5 1.3 0.3]\n",
            " [4.5 2.3 1.3 0.3]\n",
            " [4.4 3.2 1.3 0.2]\n",
            " [5.  3.5 1.6 0.6]\n",
            " [5.1 3.8 1.9 0.4]\n",
            " [4.8 3.  1.4 0.3]\n",
            " [5.1 3.8 1.6 0.2]\n",
            " [4.6 3.2 1.4 0.2]\n",
            " [5.3 3.7 1.5 0.2]\n",
            " [5.  3.3 1.4 0.2]\n",
            " [7.  3.2 4.7 1.4]\n",
            " [6.4 3.2 4.5 1.5]\n",
            " [6.9 3.1 4.9 1.5]\n",
            " [5.5 2.3 4.  1.3]\n",
            " [6.5 2.8 4.6 1.5]\n",
            " [5.7 2.8 4.5 1.3]\n",
            " [6.3 3.3 4.7 1.6]\n",
            " [4.9 2.4 3.3 1. ]\n",
            " [6.6 2.9 4.6 1.3]\n",
            " [5.2 2.7 3.9 1.4]\n",
            " [5.  2.  3.5 1. ]\n",
            " [5.9 3.  4.2 1.5]\n",
            " [6.  2.2 4.  1. ]\n",
            " [6.1 2.9 4.7 1.4]\n",
            " [5.6 2.9 3.6 1.3]\n",
            " [6.7 3.1 4.4 1.4]\n",
            " [5.6 3.  4.5 1.5]\n",
            " [5.8 2.7 4.1 1. ]\n",
            " [6.2 2.2 4.5 1.5]\n",
            " [5.6 2.5 3.9 1.1]\n",
            " [5.9 3.2 4.8 1.8]\n",
            " [6.1 2.8 4.  1.3]\n",
            " [6.3 2.5 4.9 1.5]\n",
            " [6.1 2.8 4.7 1.2]\n",
            " [6.4 2.9 4.3 1.3]\n",
            " [6.6 3.  4.4 1.4]\n",
            " [6.8 2.8 4.8 1.4]\n",
            " [6.7 3.  5.  1.7]\n",
            " [6.  2.9 4.5 1.5]\n",
            " [5.7 2.6 3.5 1. ]\n",
            " [5.5 2.4 3.8 1.1]\n",
            " [5.5 2.4 3.7 1. ]\n",
            " [5.8 2.7 3.9 1.2]\n",
            " [6.  2.7 5.1 1.6]\n",
            " [5.4 3.  4.5 1.5]\n",
            " [6.  3.4 4.5 1.6]\n",
            " [6.7 3.1 4.7 1.5]\n",
            " [6.3 2.3 4.4 1.3]\n",
            " [5.6 3.  4.1 1.3]\n",
            " [5.5 2.5 4.  1.3]\n",
            " [5.5 2.6 4.4 1.2]\n",
            " [6.1 3.  4.6 1.4]\n",
            " [5.8 2.6 4.  1.2]\n",
            " [5.  2.3 3.3 1. ]\n",
            " [5.6 2.7 4.2 1.3]\n",
            " [5.7 3.  4.2 1.2]\n",
            " [5.7 2.9 4.2 1.3]\n",
            " [6.2 2.9 4.3 1.3]\n",
            " [5.1 2.5 3.  1.1]\n",
            " [5.7 2.8 4.1 1.3]\n",
            " [6.3 3.3 6.  2.5]\n",
            " [5.8 2.7 5.1 1.9]\n",
            " [7.1 3.  5.9 2.1]\n",
            " [6.3 2.9 5.6 1.8]\n",
            " [6.5 3.  5.8 2.2]\n",
            " [7.6 3.  6.6 2.1]\n",
            " [4.9 2.5 4.5 1.7]\n",
            " [7.3 2.9 6.3 1.8]\n",
            " [6.7 2.5 5.8 1.8]\n",
            " [7.2 3.6 6.1 2.5]\n",
            " [6.5 3.2 5.1 2. ]\n",
            " [6.4 2.7 5.3 1.9]\n",
            " [6.8 3.  5.5 2.1]\n",
            " [5.7 2.5 5.  2. ]\n",
            " [5.8 2.8 5.1 2.4]\n",
            " [6.4 3.2 5.3 2.3]\n",
            " [6.5 3.  5.5 1.8]\n",
            " [7.7 3.8 6.7 2.2]\n",
            " [7.7 2.6 6.9 2.3]\n",
            " [6.  2.2 5.  1.5]\n",
            " [6.9 3.2 5.7 2.3]\n",
            " [5.6 2.8 4.9 2. ]\n",
            " [7.7 2.8 6.7 2. ]\n",
            " [6.3 2.7 4.9 1.8]\n",
            " [6.7 3.3 5.7 2.1]\n",
            " [7.2 3.2 6.  1.8]\n",
            " [6.2 2.8 4.8 1.8]\n",
            " [6.1 3.  4.9 1.8]\n",
            " [6.4 2.8 5.6 2.1]\n",
            " [7.2 3.  5.8 1.6]\n",
            " [7.4 2.8 6.1 1.9]\n",
            " [7.9 3.8 6.4 2. ]\n",
            " [6.4 2.8 5.6 2.2]\n",
            " [6.3 2.8 5.1 1.5]\n",
            " [6.1 2.6 5.6 1.4]\n",
            " [7.7 3.  6.1 2.3]\n",
            " [6.3 3.4 5.6 2.4]\n",
            " [6.4 3.1 5.5 1.8]\n",
            " [6.  3.  4.8 1.8]\n",
            " [6.9 3.1 5.4 2.1]\n",
            " [6.7 3.1 5.6 2.4]\n",
            " [6.9 3.1 5.1 2.3]\n",
            " [5.8 2.7 5.1 1.9]\n",
            " [6.8 3.2 5.9 2.3]\n",
            " [6.7 3.3 5.7 2.5]\n",
            " [6.7 3.  5.2 2.3]\n",
            " [6.3 2.5 5.  1.9]\n",
            " [6.5 3.  5.2 2. ]\n",
            " [6.2 3.4 5.4 2.3]\n",
            " [5.9 3.  5.1 1.8]]\n",
            "[0 0 0 0 0 0 0 0 0 0 0 0 0 0 0 0 0 0 0 0 0 0 0 0 0 0 0 0 0 0 0 0 0 0 0 0 0\n",
            " 0 0 0 0 0 0 0 0 0 0 0 0 0 1 1 1 1 1 1 1 1 1 1 1 1 1 1 1 1 1 1 1 1 1 1 1 1\n",
            " 1 1 1 1 1 1 1 1 1 1 1 1 1 1 1 1 1 1 1 1 1 1 1 1 1 1 2 2 2 2 2 2 2 2 2 2 2\n",
            " 2 2 2 2 2 2 2 2 2 2 2 2 2 2 2 2 2 2 2 2 2 2 2 2 2 2 2 2 2 2 2 2 2 2 2 2 2\n",
            " 2 2]\n"
          ]
        }
      ],
      "source": [
        "# Data Mining - TP3\n",
        "# First step: importing the dataset\n",
        "from sklearn import datasets\n",
        "irisData = datasets.load_iris()\n",
        "print (irisData.data)\n",
        "print (irisData.target)"
      ]
    },
    {
      "cell_type": "code",
      "execution_count": null,
      "metadata": {
        "colab": {
          "base_uri": "https://localhost:8080/"
        },
        "id": "fI2jqd31PF9g",
        "outputId": "7c4a4de9-6dbb-4381-d347-a4067c119ca8"
      },
      "outputs": [
        {
          "output_type": "stream",
          "name": "stdout",
          "text": [
            "['sepal length (cm)', 'sepal width (cm)', 'petal length (cm)', 'petal width (cm)']\n",
            "['setosa' 'versicolor' 'virginica']\n"
          ]
        }
      ],
      "source": [
        "# Print the features' names and target names\n",
        "print(irisData.feature_names)\n",
        "print(irisData.target_names)"
      ]
    },
    {
      "cell_type": "code",
      "execution_count": null,
      "metadata": {
        "colab": {
          "base_uri": "https://localhost:8080/"
        },
        "id": "NMFUtdptPPXj",
        "outputId": "9b644809-5c0f-452f-d343-5b469eac1ebf"
      },
      "outputs": [
        {
          "output_type": "execute_result",
          "data": {
            "text/plain": [
              "Counter({0: 50, 1: 50, 2: 50})"
            ]
          },
          "metadata": {},
          "execution_count": 3
        }
      ],
      "source": [
        "# Counter allows us to count the number of occurences of each target category in the dataset\n",
        "from collections import Counter\n",
        "Counter(irisData.target)"
      ]
    },
    {
      "cell_type": "code",
      "execution_count": null,
      "metadata": {
        "colab": {
          "base_uri": "https://localhost:8080/"
        },
        "id": "R6nHg28XQ_ay",
        "outputId": "f3a73451-3736-4616-aa28-bc2aaeb0f2fe"
      },
      "outputs": [
        {
          "output_type": "stream",
          "name": "stdout",
          "text": [
            "[5.4 3.4 1.5 0.4]\n",
            "0\n"
          ]
        }
      ],
      "source": [
        "# Print the 32nd element of the dataset (features + target class)\n",
        "print(irisData.data[31])\n",
        "print(irisData.target[31])"
      ]
    },
    {
      "cell_type": "code",
      "execution_count": null,
      "metadata": {
        "colab": {
          "base_uri": "https://localhost:8080/",
          "height": 265
        },
        "id": "PZAumIJrRo3N",
        "outputId": "90755145-1a72-4fc3-a3c6-cd0102aeb619"
      },
      "outputs": [
        {
          "output_type": "display_data",
          "data": {
            "text/plain": [
              "<Figure size 432x288 with 1 Axes>"
            ],
            "image/png": "[encoded data removed]"
          },
          "metadata": {
            "needs_background": "light"
          }
        }
      ],
      "source": [
        "# Matplotlib is a library used for creating static, animated, and interactive visualizations in Python\n",
        "import matplotlib\n",
        "# Pylab = a library to facilitate the use of matplotlib\n",
        "import pylab as pl\n",
        "# Cycle is a tool to define a circular sequence of colors\n",
        "from itertools import cycle\n",
        "\n",
        "def plot_2D(data, target, target_names):\n",
        "  colors = cycle('rgbcmykw') # A cycle of colors: a color for each class (red, green, blue, cyan...)\n",
        "  target_ids = range(len(target_names))\n",
        "  pl.figure()\n",
        "  # To use multiple iterators, use zip on different iterable objects\n",
        "  for i, c, label in zip(target_ids, colors, target_names):\n",
        "    pl.scatter(data[target == i, 2], data[target == i, 3], c=c, label=label)\n",
        "  pl.legend()\n",
        "  pl.plot([2.5,2.5], [0,3]) # Define a line using two points: ([x1,x2], [y1,y2]) to separate class 0 from classes 1 and 2\n",
        "  pl.show()\n",
        "plot_2D(irisData.data, irisData.target, irisData.target_names)"
      ]
    },
    {
      "cell_type": "code",
      "execution_count": null,
      "metadata": {
        "colab": {
          "base_uri": "https://localhost:8080/"
        },
        "id": "pyLZufJcV36u",
        "outputId": "24e648fa-01fc-46f3-d33f-09a752c6fb1b"
      },
      "outputs": [
        {
          "output_type": "stream",
          "name": "stdout",
          "text": [
            "[0]\n",
            "[2]\n",
            "[0 0 0 0 0 0 0 0 0 0 0 0 0 0 0 0 0 0 0 0 0 0 0 0 0 0 0 0 0 0 0 0 0 0 0 0 0\n",
            " 0 0 0 0 0 0 0 0 0 0 0 0 0 1 1 1 1 1 1 1 1 1 1 1 1 1 1 1 1 1 1 2 1 2 1 2 1\n",
            " 1 1 1 1 1 1 1 1 1 2 1 1 1 1 1 1 1 1 1 1 1 1 1 1 1 1 2 2 2 2 2 2 2 2 2 2 2\n",
            " 2 2 2 2 2 2 2 2 2 2 2 2 2 2 2 2 2 2 1 2 1 2 1 2 2 2 2 2 2 2 2 2 2 2 2 2 2\n",
            " 2 2]\n"
          ]
        },
        {
          "output_type": "execute_result",
          "data": {
            "text/plain": [
              "0.9533333333333334"
            ]
          },
          "metadata": {},
          "execution_count": 6
        }
      ],
      "source": [
        "# Importing the model Naive-Bayes\n",
        "from sklearn import naive_bayes\n",
        "nb = naive_bayes.MultinomialNB(fit_prior=True) # The MultinomialNB Naive-Bayes classifier is an algorithm used when we have multiple target classes\n",
        "irisData = datasets.load_iris()\n",
        "nb.fit(irisData.data, irisData.target)\n",
        "# Let's predict the target class of the 32nd element in the dataset\n",
        "p31 = nb.predict([irisData.data[31]])\n",
        "print(p31)\n",
        "# Now predict the target class of the last element in the dataset\n",
        "plast = nb.predict([irisData.data[-1]])\n",
        "print(plast)\n",
        "p = nb.predict(irisData.data)\n",
        "print(p) # If all classified correctly => possibility of overfitting\n",
        "nb.score(irisData.data, irisData.target)"
      ]
    },
    {
      "cell_type": "code",
      "execution_count": null,
      "metadata": {
        "colab": {
          "base_uri": "https://localhost:8080/"
        },
        "id": "FDdi2Te5X-LL",
        "outputId": "dd0fc6c2-4d01-4bbf-ec3a-b5627ab492ce"
      },
      "outputs": [
        {
          "output_type": "execute_result",
          "data": {
            "text/plain": [
              "array([1, 1, 1, 1, 1, 1, 1, 1, 1, 1, 1, 1, 1, 1, 1, 1, 1, 1, 1, 1, 1, 1,\n",
              "       1, 1, 1, 1, 1, 1, 1, 1, 1, 1, 1, 1, 1, 1, 1, 1, 1, 1, 1, 1, 1, 1,\n",
              "       1, 1, 1, 1, 1])"
            ]
          },
          "metadata": {},
          "execution_count": 7
        }
      ],
      "source": [
        "nb.fit(irisData.data[:99], irisData.target[:99]) # Model only learned classes 0 and 1\n",
        "nb.predict(irisData.data[100:149]) # Class 2 has more similar features to Class1 than Class0 (see graph), thus the model predicted Class1 not Class0"
      ]
    },
    {
      "cell_type": "code",
      "execution_count": null,
      "metadata": {
        "colab": {
          "base_uri": "https://localhost:8080/"
        },
        "id": "mpULLAmmYeJ3",
        "outputId": "50577a67-0a20-4787-ae3f-6b63d2549ae8"
      },
      "outputs": [
        {
          "output_type": "stream",
          "name": "stdout",
          "text": [
            "4.666666666666667 %\n"
          ]
        }
      ],
      "source": [
        "# Calculate the number of incorrectly classified instances manually\n",
        "ea = 0\n",
        "for i in range(len(irisData.data)):\n",
        "  if (p[i] != irisData.target[i]):\n",
        "    ea = ea+1\n",
        "print(ea/len(irisData.data)*100, '%')"
      ]
    },
    {
      "cell_type": "code",
      "execution_count": null,
      "metadata": {
        "colab": {
          "base_uri": "https://localhost:8080/"
        },
        "id": "MgPIi7x6Zl0H",
        "outputId": "454cce4d-4ddf-4eea-dac0-77e738e47ef3"
      },
      "outputs": [
        {
          "output_type": "execute_result",
          "data": {
            "text/plain": [
              "(array([ 68,  70,  72,  83, 129, 131, 133]),)"
            ]
          },
          "metadata": {},
          "execution_count": 9
        }
      ],
      "source": [
        "# Or we can use numpy's count_nonzero\n",
        "import numpy as np\n",
        "np.count_nonzero(p-irisData.target) # Count the number of incorrectly classified instances\n",
        "np.nonzero(p-irisData.target) # Indices of incorrectly classified instances in the training dataset"
      ]
    },
    {
      "cell_type": "code",
      "execution_count": null,
      "metadata": {
        "colab": {
          "base_uri": "https://localhost:8080/"
        },
        "id": "TUG0cVAyZ2-Z",
        "outputId": "60895cbd-29a4-4d1b-9d33-f3c691978106"
      },
      "outputs": [
        {
          "output_type": "execute_result",
          "data": {
            "text/plain": [
              "0.6666666666666666"
            ]
          },
          "metadata": {},
          "execution_count": 10
        }
      ],
      "source": [
        "nb.score(irisData.data, irisData.target)"
      ]
    },
    {
      "cell_type": "code",
      "execution_count": null,
      "metadata": {
        "colab": {
          "base_uri": "https://localhost:8080/"
        },
        "id": "jskvKhAuan77",
        "outputId": "928af039-2ba7-426c-c3af-782464e7ee54"
      },
      "outputs": [
        {
          "output_type": "stream",
          "name": "stdout",
          "text": [
            "[[array([7.4, 2.8, 6.1, 1.9]), array([5.1, 3.5, 1.4, 0.2]), array([5.4, 3.4, 1.7, 0.2]), array([5.4, 3.7, 1.5, 0.2]), array([6.4, 2.9, 4.3, 1.3]), array([7.3, 2.9, 6.3, 1.8]), array([6.8, 2.8, 4.8, 1.4]), array([6.7, 3.3, 5.7, 2.1]), array([6.3, 3.3, 6. , 2.5]), array([4.4, 3.2, 1.3, 0.2]), array([5.8, 4. , 1.2, 0.2]), array([4.8, 3.4, 1.9, 0.2]), array([5.1, 3.5, 1.4, 0.2]), array([6. , 2.2, 5. , 1.5]), array([5.5, 2.6, 4.4, 1.2]), array([5.6, 2.7, 4.2, 1.3]), array([5.9, 3. , 4.2, 1.5]), array([5.6, 2.5, 3.9, 1.1]), array([6.4, 2.7, 5.3, 1.9]), array([5.9, 3. , 4.2, 1.5]), array([5.2, 4.1, 1.5, 0.1]), array([6.2, 3.4, 5.4, 2.3]), array([7.7, 2.6, 6.9, 2.3]), array([5. , 3. , 1.6, 0.2]), array([6.5, 3.2, 5.1, 2. ]), array([5.6, 2.7, 4.2, 1.3]), array([5.7, 2.6, 3.5, 1. ]), array([6.9, 3.1, 5.1, 2.3]), array([6.6, 3. , 4.4, 1.4]), array([6.4, 2.8, 5.6, 2.2]), array([6.4, 3.2, 5.3, 2.3]), array([6.4, 3.1, 5.5, 1.8]), array([5.4, 3.9, 1.7, 0.4]), array([4.7, 3.2, 1.3, 0.2]), array([6.7, 3.1, 4.7, 1.5]), array([5.4, 3.9, 1.7, 0.4]), array([5.1, 3.8, 1.5, 0.3]), array([5.4, 3.4, 1.7, 0.2]), array([5.4, 3.4, 1.7, 0.2]), array([4.6, 3.4, 1.4, 0.3]), array([5.4, 3. , 4.5, 1.5]), array([5. , 3. , 1.6, 0.2]), array([5.4, 3.4, 1.5, 0.4]), array([6.3, 3.3, 6. , 2.5]), array([5. , 3.5, 1.3, 0.3]), array([5.2, 4.1, 1.5, 0.1]), array([6.3, 2.5, 4.9, 1.5]), array([6.7, 3.1, 4.4, 1.4]), array([4.9, 3.1, 1.5, 0.1]), array([6.7, 3.1, 4.7, 1.5]), array([6.9, 3.2, 5.7, 2.3]), array([7.7, 3. , 6.1, 2.3]), array([6.1, 2.9, 4.7, 1.4]), array([4.8, 3. , 1.4, 0.1]), array([6.3, 2.7, 4.9, 1.8]), array([7. , 3.2, 4.7, 1.4]), array([7.3, 2.9, 6.3, 1.8]), array([5.1, 2.5, 3. , 1.1]), array([5. , 3.3, 1.4, 0.2]), array([4.9, 3.1, 1.5, 0.1]), array([5.5, 2.6, 4.4, 1.2]), array([5.8, 2.7, 3.9, 1.2]), array([7.6, 3. , 6.6, 2.1]), array([6.6, 2.9, 4.6, 1.3]), array([6.9, 3.1, 4.9, 1.5]), array([5.7, 2.8, 4.1, 1.3]), array([6.2, 2.2, 4.5, 1.5]), array([6.4, 3.2, 4.5, 1.5]), array([6.4, 2.8, 5.6, 2.1]), array([6.9, 3.2, 5.7, 2.3]), array([6.7, 3. , 5.2, 2.3]), array([5.1, 3.5, 1.4, 0.2]), array([7.2, 3. , 5.8, 1.6]), array([6.5, 2.8, 4.6, 1.5]), array([5.1, 3.8, 1.9, 0.4]), array([6.3, 2.7, 4.9, 1.8]), array([7.1, 3. , 5.9, 2.1]), array([5. , 3.6, 1.4, 0.2]), array([4.6, 3.4, 1.4, 0.3]), array([5.4, 3.4, 1.5, 0.4]), array([4.5, 2.3, 1.3, 0.3]), array([5.9, 3. , 4.2, 1.5]), array([6.5, 3. , 5.2, 2. ]), array([6.3, 3.3, 6. , 2.5]), array([6.9, 3.1, 5.1, 2.3]), array([6.5, 3. , 5.8, 2.2]), array([5.8, 2.7, 3.9, 1.2]), array([5.1, 3.7, 1.5, 0.4]), array([5.1, 3.4, 1.5, 0.2]), array([4.9, 3. , 1.4, 0.2]), array([5.8, 2.7, 4.1, 1. ]), array([6.7, 3.3, 5.7, 2.5]), array([6.8, 3. , 5.5, 2.1]), array([5.7, 2.9, 4.2, 1.3]), array([4.9, 2.4, 3.3, 1. ]), array([5.7, 2.6, 3.5, 1. ]), array([6.4, 3.2, 5.3, 2.3]), array([6. , 3.4, 4.5, 1.6]), array([5.5, 2.3, 4. , 1.3]), array([6.9, 3.2, 5.7, 2.3])], [0, 0, 2, 2, 1, 0, 2, 2, 1, 0, 1, 2, 1, 1, 2, 2, 0, 1, 2, 1, 0, 2, 2, 1, 1, 2, 0, 1, 0, 0, 2, 2, 0, 1, 1, 0, 0, 2, 0, 1, 2, 2, 2, 0, 1, 0, 1, 0, 1, 0, 1, 2, 2, 1, 2, 0, 2, 0, 0, 0, 2, 0, 0, 1, 0, 2, 1, 0, 0, 0, 2, 0, 0, 2, 0, 2, 0, 2, 0, 0, 0, 1, 2, 2, 0, 2, 2, 1, 2, 1, 1, 2, 0, 1, 1, 2, 0, 0, 1, 1], [array([6.3, 2.9, 5.6, 1.8]), array([5.8, 2.7, 3.9, 1.2]), array([4.9, 2.5, 4.5, 1.7]), array([5. , 3.5, 1.6, 0.6]), array([6.1, 2.8, 4. , 1.3]), array([6.7, 3.3, 5.7, 2.5]), array([7.7, 3. , 6.1, 2.3]), array([5. , 3.5, 1.6, 0.6]), array([6.4, 3.1, 5.5, 1.8]), array([5. , 2.3, 3.3, 1. ]), array([6. , 2.7, 5.1, 1.6]), array([7. , 3.2, 4.7, 1.4]), array([6.4, 2.8, 5.6, 2.1]), array([6.3, 2.8, 5.1, 1.5]), array([6.3, 2.3, 4.4, 1.3]), array([5.4, 3.4, 1.5, 0.4]), array([5.5, 2.3, 4. , 1.3]), array([5.1, 3.7, 1.5, 0.4]), array([5.5, 2.6, 4.4, 1.2]), array([5.8, 2.7, 5.1, 1.9]), array([6. , 2.7, 5.1, 1.6]), array([5.4, 3.4, 1.7, 0.2]), array([5.6, 2.8, 4.9, 2. ]), array([7.7, 2.8, 6.7, 2. ]), array([4.9, 2.4, 3.3, 1. ]), array([5.2, 3.4, 1.4, 0.2]), array([6.7, 3. , 5.2, 2.3]), array([5. , 3.3, 1.4, 0.2]), array([6.1, 2.8, 4. , 1.3]), array([5.4, 3.7, 1.5, 0.2]), array([6.3, 3.3, 6. , 2.5]), array([5.6, 3. , 4.1, 1.3]), array([5.7, 4.4, 1.5, 0.4]), array([5.9, 3. , 4.2, 1.5]), array([6.7, 3.1, 4.4, 1.4]), array([6.4, 2.7, 5.3, 1.9]), array([7.2, 3.2, 6. , 1.8]), array([7.4, 2.8, 6.1, 1.9]), array([6.3, 3.4, 5.6, 2.4]), array([5.8, 2.7, 5.1, 1.9]), array([6.8, 3. , 5.5, 2.1]), array([5.8, 4. , 1.2, 0.2]), array([6.1, 2.8, 4. , 1.3]), array([6.7, 2.5, 5.8, 1.8]), array([4.8, 3. , 1.4, 0.1]), array([4.9, 2.5, 4.5, 1.7]), array([5.5, 2.4, 3.7, 1. ]), array([5.2, 2.7, 3.9, 1.4]), array([6.3, 2.5, 4.9, 1.5]), array([4.4, 3. , 1.3, 0.2])], [2, 0, 0, 0, 0, 1, 2, 2, 2, 0, 2, 0, 1, 1, 2, 1, 0, 0, 1, 0, 0, 2, 0, 2, 0, 0, 0, 0, 1, 2, 0, 0, 0, 2, 1, 0, 1, 0, 1, 0, 1, 1, 1, 0, 2, 2, 0, 0, 0, 2]]\n"
          ]
        }
      ],
      "source": [
        "from numpy.random import randint\n",
        "\n",
        "# Define a function that performs a train-test split, with 2/3 of the data for training and 1/3 for test\n",
        "def split(dataset):\n",
        "  dataS1=[]\n",
        "  targetS1=[]\n",
        "  dataS2=[]\n",
        "  targetS2=[]\n",
        "  for i in range(100):\n",
        "    dataS1.append(dataset.data[randint(low=0, high=150)])\n",
        "    targetS1.append(dataset.target[randint(low=0, high=150)])\n",
        "  for i in range(50):\n",
        "    dataS2.append(dataset.data[randint(low=0, high=150)])\n",
        "    targetS2.append(dataset.target[randint(low=0, high=150)])\n",
        "  return [dataS1, targetS1, dataS2, targetS2]\n",
        "print(split(irisData))"
      ]
    },
    {
      "cell_type": "code",
      "execution_count": null,
      "metadata": {
        "colab": {
          "base_uri": "https://localhost:8080/",
          "height": 1000
        },
        "id": "MDC5-z80a-FW",
        "outputId": "44949323-09ce-413d-a5a1-195ab06ac862"
      },
      "outputs": [
        {
          "output_type": "stream",
          "name": "stdout",
          "text": [
            "Model: Naive Bayes\n"
          ]
        },
        {
          "output_type": "display_data",
          "data": {
            "text/plain": [
              "<Figure size 432x216 with 1 Axes>"
            ],
            "image/png": "[encoded data removed]"
          },
          "metadata": {
            "needs_background": "light"
          }
        },
        {
          "output_type": "stream",
          "name": "stdout",
          "text": [
            "Optimal test size:  0.1\n",
            "Best accuracy:  0.912\n",
            "\n",
            "**************************************************\n",
            "\n",
            "Model: KNN\n"
          ]
        },
        {
          "output_type": "display_data",
          "data": {
            "text/plain": [
              "<Figure size 432x216 with 1 Axes>"
            ],
            "image/png": "[encoded data removed]"
          },
          "metadata": {
            "needs_background": "light"
          }
        },
        {
          "output_type": "stream",
          "name": "stdout",
          "text": [
            "Optimal test size:  0.16999999999999998\n",
            "Best accuracy:  0.9723076923076923\n",
            "\n",
            "**************************************************\n",
            "\n",
            "Model: Decision Tree\n"
          ]
        },
        {
          "output_type": "display_data",
          "data": {
            "text/plain": [
              "<Figure size 432x216 with 1 Axes>"
            ],
            "image/png": "[encoded data removed]"
          },
          "metadata": {
            "needs_background": "light"
          }
        },
        {
          "output_type": "stream",
          "name": "stdout",
          "text": [
            "Optimal test size:  0.14999999999999997\n",
            "Best accuracy:  0.9565217391304348\n",
            "\n",
            "**************************************************\n",
            "\n",
            "Model: XGBoost\n"
          ]
        },
        {
          "output_type": "display_data",
          "data": {
            "text/plain": [
              "<Figure size 432x216 with 1 Axes>"
            ],
            "image/png": "[encoded data removed]"
          },
          "metadata": {
            "needs_background": "light"
          }
        },
        {
          "output_type": "stream",
          "name": "stdout",
          "text": [
            "Optimal test size:  0.33999999999999986\n",
            "Best accuracy:  0.9596078431372549\n",
            "\n",
            "**************************************************\n",
            "\n",
            "Model: Random Forest\n"
          ]
        },
        {
          "output_type": "display_data",
          "data": {
            "text/plain": [
              "<Figure size 432x216 with 1 Axes>"
            ],
            "image/png": "[encoded data removed]"
          },
          "metadata": {
            "needs_background": "light"
          }
        },
        {
          "output_type": "stream",
          "name": "stdout",
          "text": [
            "Optimal test size:  0.15999999999999998\n",
            "Best accuracy:  0.9625\n",
            "\n",
            "**************************************************\n",
            "\n"
          ]
        }
      ],
      "source": [
        "from sklearn.model_selection import train_test_split\n",
        "from sklearn.ensemble import RandomForestClassifier\n",
        "from sklearn.neighbors import KNeighborsClassifier\n",
        "from sklearn.tree import DecisionTreeClassifier\n",
        "from xgboost import XGBClassifier\n",
        "import matplotlib.pyplot as plt\n",
        "\n",
        "# Define a list of models to use and see which one performs better\n",
        "models={\n",
        "    \"Naive Bayes\": lambda : naive_bayes.MultinomialNB(fit_prior=True),\n",
        "     \"KNN\": KNeighborsClassifier,\n",
        "    \"Decision Tree\": DecisionTreeClassifier,\n",
        "    \"XGBoost\": lambda: XGBClassifier(use_label_encoder=False,verbosity = 0, silent=True),\n",
        "    \"Random Forest\": RandomForestClassifier\n",
        "}\n",
        "# Iterate through the models\n",
        "for model_name, model in models.items():\n",
        "    print(f\"Model: {model_name}\")\n",
        "    # Define a map to store the error for each test size\n",
        "    errorMap={}\n",
        "    for testSize in np.arange(0.1, 0.9, 0.01):\n",
        "        err = np.array([])\n",
        "        # Train the given model 50 times and get the mean error out of all 50 times to assign it to the given test size\n",
        "        for __ in range(50):\n",
        "            data_train, data_test, target_train, target_test = train_test_split(irisData.data, irisData.target, test_size=testSize)\n",
        "            m = model()\n",
        "            m.fit(data_train, target_train)\n",
        "            error = 1 - m.score(data_test, target_test)\n",
        "            err = np.append(err, error)\n",
        "\n",
        "        errorMap[testSize] = err.mean()\n",
        "\n",
        "    # Prepare for the visualisation of the error bar chart per test size for each model\n",
        "    x=list(errorMap.keys())\n",
        "    y=list(errorMap.values())\n",
        "\n",
        "    fig = plt.figure(figsize = (6, 3))\n",
        "    plt.bar(x, y, width = 0.01)\n",
        "    plt.title(model_name)\n",
        "    plt.xlabel(\"Test size\")\n",
        "    plt.ylabel(\"Error\")\n",
        "    plt.show()\n",
        "\n",
        "    # Print out the optimal test size and the according accuracy computed for each model \n",
        "    optimalTestSize = min(errorMap, key = errorMap.get)\n",
        "    print(\"Optimal test size: \", optimalTestSize)\n",
        "    bestAccuracy = 1 - errorMap[optimalTestSize]\n",
        "    print(\"Best accuracy: \", bestAccuracy)\n",
        "    print(\"\\n\" + '*'*50 + \"\\n\")"
      ]
    }
  ],
  "metadata": {
    "colab": {
      "provenance": []
    },
    "kernelspec": {
      "display_name": "Python 3",
      "name": "python3"
    },
    "language_info": {
      "name": "python"
    }
  },
  "nbformat": 4,
  "nbformat_minor": 0
}